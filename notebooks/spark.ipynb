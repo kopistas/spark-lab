{
 "cells": [
  {
   "cell_type": "code",
   "execution_count": 5,
   "metadata": {},
   "outputs": [
    {
     "name": "stdout",
     "output_type": "stream",
     "text": [
      "--2024-12-23 18:25:45--  https://jdbc.postgresql.org/download/postgresql-42.7.4.jar\n",
      "Resolving jdbc.postgresql.org (jdbc.postgresql.org)... 72.32.157.228, 2001:4800:3e1:1::228\n",
      "Connecting to jdbc.postgresql.org (jdbc.postgresql.org)|72.32.157.228|:443... connected.\n",
      "HTTP request sent, awaiting response... 200 OK\n",
      "Length: 1086687 (1.0M) [application/java-archive]\n",
      "Saving to: ‘/home/jovyan/work/postgresql-42.7.4.jar.1’\n",
      "\n",
      "postgresql-42.7.4.j 100%[===================>]   1.04M  21.3KB/s    in 51s     \n",
      "\n",
      "2024-12-23 18:26:37 (20.8 KB/s) - ‘/home/jovyan/work/postgresql-42.7.4.jar.1’ saved [1086687/1086687]\n",
      "\n"
     ]
    }
   ],
   "source": [
    "!wget https://jdbc.postgresql.org/download/postgresql-42.7.4.jar -P /home/jovyan/work"
   ]
  },
  {
   "cell_type": "code",
   "execution_count": 2,
   "metadata": {},
   "outputs": [
    {
     "name": "stdout",
     "output_type": "stream",
     "text": [
      "=== Spark Session Info ===\n",
      "[('spark.master', 'local'), ('spark.app.startTime', '1734981054850'), ('spark.app.submitTime', '1734980303079'), ('spark.driver.port', '40843'), ('spark.executor.id', 'driver'), ('spark.driver.host', 'ee3eb0a478a1'), ('spark.driver.extraJavaOptions', '-Djava.net.preferIPv6Addresses=false -XX:+IgnoreUnrecognizedVMOptions --add-opens=java.base/java.lang=ALL-UNNAMED --add-opens=java.base/java.lang.invoke=ALL-UNNAMED --add-opens=java.base/java.lang.reflect=ALL-UNNAMED --add-opens=java.base/java.io=ALL-UNNAMED --add-opens=java.base/java.net=ALL-UNNAMED --add-opens=java.base/java.nio=ALL-UNNAMED --add-opens=java.base/java.util=ALL-UNNAMED --add-opens=java.base/java.util.concurrent=ALL-UNNAMED --add-opens=java.base/java.util.concurrent.atomic=ALL-UNNAMED --add-opens=java.base/sun.nio.ch=ALL-UNNAMED --add-opens=java.base/sun.nio.cs=ALL-UNNAMED --add-opens=java.base/sun.security.action=ALL-UNNAMED --add-opens=java.base/sun.util.calendar=ALL-UNNAMED --add-opens=java.security.jgss/sun.security.krb5=ALL-UNNAMED -Djdk.reflect.useDirectMethodHandle=false'), ('spark.app.name', 'SparkConnectionTest'), ('spark.app.initial.jar.urls', 'spark://ee3eb0a478a1:40843/jars/postgresql-42.7.4.jar'), ('spark.jars', 'postgresql-42.7.4.jar'), ('spark.rdd.compress', 'True'), ('spark.serializer.objectStreamReset', '100'), ('spark.submit.pyFiles', ''), ('spark.submit.deployMode', 'client'), ('spark.app.id', 'local-1734981054881'), ('spark.ui.showConsoleProgress', 'true'), ('spark.executor.extraJavaOptions', '-Djava.net.preferIPv6Addresses=false -XX:+IgnoreUnrecognizedVMOptions --add-opens=java.base/java.lang=ALL-UNNAMED --add-opens=java.base/java.lang.invoke=ALL-UNNAMED --add-opens=java.base/java.lang.reflect=ALL-UNNAMED --add-opens=java.base/java.io=ALL-UNNAMED --add-opens=java.base/java.net=ALL-UNNAMED --add-opens=java.base/java.nio=ALL-UNNAMED --add-opens=java.base/java.util=ALL-UNNAMED --add-opens=java.base/java.util.concurrent=ALL-UNNAMED --add-opens=java.base/java.util.concurrent.atomic=ALL-UNNAMED --add-opens=java.base/sun.nio.ch=ALL-UNNAMED --add-opens=java.base/sun.nio.cs=ALL-UNNAMED --add-opens=java.base/sun.security.action=ALL-UNNAMED --add-opens=java.base/sun.util.calendar=ALL-UNNAMED --add-opens=java.security.jgss/sun.security.krb5=ALL-UNNAMED -Djdk.reflect.useDirectMethodHandle=false'), ('spark.repl.local.jars', 'file:///home/jovyan/work/postgresql-42.7.4.jar')]\n",
      "PostgreSQL Connection Successful!\n"
     ]
    }
   ],
   "source": [
    "from pyspark.sql import SparkSession\n",
    "\n",
    "def buildSpark():\n",
    "    spark = SparkSession.builder \\\n",
    "        .master(\"local\") \\\n",
    "        .appName(\"SparkConnectionTest\") \\\n",
    "        .config(\"spark.jars\", \"postgresql-42.7.4.jar\") \\\n",
    "        .getOrCreate()\n",
    "    \n",
    "    #Проверка соединения со Spark\n",
    "    print(\"=== Spark Session Info ===\")\n",
    "    print(spark.sparkContext.getConf().getAll())\n",
    "    return spark\n",
    "\n",
    "jdbc_url = \"jdbc:postgresql://postgres_db:5432/mydatabase\"\n",
    "db_properties = {\n",
    "    \"user\": \"myuser\",\n",
    "    \"password\": \"mypassword\",\n",
    "    \"driver\": \"org.postgresql.Driver\"\n",
    "}\n",
    "\n",
    "def runSQL(spark, command):\n",
    "    try:\n",
    "        df = spark.read.jdbc(\n",
    "            url=jdbc_url,\n",
    "            table=command,  # Тестовый запрос\n",
    "            properties=db_properties\n",
    "        )\n",
    "        print(\"PostgreSQL Connection Successful!\")\n",
    "        return df\n",
    "    except Exception as e:\n",
    "        print(\"PostgreSQL Connection Failed! If you just downloaded postgree driver, restart docker compose services please.\")\n",
    "\n",
    "# Настройка соединения со Spark Master\n",
    "spark = buildSpark()\n",
    "# Проверка соединения с PostgreSQL\n",
    "runSQL(spark, \"(SELECT 1) as test\")\n",
    "\n",
    "spark.stop()"
   ]
  }
 ],
 "metadata": {
  "kernelspec": {
   "display_name": "Python 3 (ipykernel)",
   "language": "python",
   "name": "python3"
  },
  "language_info": {
   "codemirror_mode": {
    "name": "ipython",
    "version": 3
   },
   "file_extension": ".py",
   "mimetype": "text/x-python",
   "name": "python",
   "nbconvert_exporter": "python",
   "pygments_lexer": "ipython3",
   "version": "3.11.6"
  }
 },
 "nbformat": 4,
 "nbformat_minor": 4
}
