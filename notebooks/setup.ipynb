{
 "cells": [
  {
   "cell_type": "markdown",
   "metadata": {},
   "source": [
    "# Скрипт чтобы забить БД изначальными данными. Использовал его с хоста. В репе БД уже забита ими, так что можно его не запускать"
   ]
  },
  {
   "cell_type": "code",
   "execution_count": 2,
   "metadata": {},
   "outputs": [
    {
     "name": "stdout",
     "output_type": "stream",
     "text": [
      "Executed: ../table_scripts/DDL_craft_market_source_1.sql\n",
      "Executed: ../table_scripts/DDL_craft_market_source_2.sql\n",
      "Executed: ../table_scripts/DDL_craft_market_source_3.sql\n",
      "Loaded data from complete_craft_market_wide_20230730.csv into source1.craft_market_wide\n",
      "Loaded data from complete_craft_market_masters_products_202305071535.csv into source2.craft_market_masters_products\n",
      "Loaded data from complete_craft_market_orders_customers_202305071535.csv into source2.craft_market_orders_customers\n",
      "Loaded data from complete_craft_market_craftsmans_202305071534.csv into source3.craft_market_craftsmans\n",
      "Loaded data from complete_craft_market_customers_202305071535.csv into source3.craft_market_customers\n",
      "Loaded data from complete_craft_market_orders_202305071535.csv into source3.craft_market_orders\n"
     ]
    }
   ],
   "source": [
    "# Import required libraries\n",
    "import os\n",
    "import psycopg2\n",
    "import pandas as pd\n",
    "\n",
    "# PostgreSQL connection settings\n",
    "POSTGRES_USER = \"myuser\"\n",
    "POSTGRES_PASSWORD = \"mypassword\"\n",
    "POSTGRES_DB = \"mydatabase\"\n",
    "POSTGRES_HOST = \"localhost\"\n",
    "POSTGRES_PORT = 5432\n",
    "\n",
    "# Connect to PostgreSQL\n",
    "conn = psycopg2.connect(\n",
    "    dbname=POSTGRES_DB,\n",
    "    user=POSTGRES_USER,\n",
    "    password=POSTGRES_PASSWORD,\n",
    "    host=POSTGRES_HOST,\n",
    "    port=POSTGRES_PORT,\n",
    ")\n",
    "cursor = conn.cursor()\n",
    "\n",
    "# Function to execute SQL scripts\n",
    "def execute_sql_script(file_path):\n",
    "    with open(file_path, \"r\") as file:\n",
    "        sql = file.read()\n",
    "        cursor.execute(sql)\n",
    "        print(f\"Executed: {file_path}\")\n",
    "    conn.commit()\n",
    "\n",
    "# Step 1: Create schemas and tables\n",
    "table_scripts_path = \"../table_scripts\"\n",
    "for script in sorted(os.listdir(table_scripts_path)):\n",
    "    if script.endswith(\".sql\"):\n",
    "        execute_sql_script(os.path.join(table_scripts_path, script))\n",
    "\n",
    "# Step 2: Load CSV data into tables\n",
    "source_data_path = \"../source_data\"\n",
    "csv_to_table_mapping = {\n",
    "    \"complete_craft_market_wide_20230730.csv\": \"source1.craft_market_wide\",\n",
    "    \"complete_craft_market_masters_products_202305071535.csv\": \"source2.craft_market_masters_products\",\n",
    "    \"complete_craft_market_orders_customers_202305071535.csv\": \"source2.craft_market_orders_customers\",\n",
    "    \"complete_craft_market_craftsmans_202305071534.csv\": \"source3.craft_market_craftsmans\",\n",
    "    \"complete_craft_market_customers_202305071535.csv\": \"source3.craft_market_customers\",\n",
    "    \"complete_craft_market_orders_202305071535.csv\": \"source3.craft_market_orders\",\n",
    "}\n",
    "\n",
    "for csv_file, table_name in csv_to_table_mapping.items():\n",
    "    csv_path = os.path.join(source_data_path, csv_file)\n",
    "    with open(csv_path, \"r\") as f:\n",
    "        cursor.copy_expert(\n",
    "            f\"COPY {table_name} FROM STDIN WITH CSV HEADER DELIMITER ','\",\n",
    "            f,\n",
    "        )\n",
    "        print(f\"Loaded data from {csv_file} into {table_name}\")\n",
    "    conn.commit()\n",
    "\n",
    "# Close connection\n",
    "cursor.close()\n",
    "conn.close()"
   ]
  },
  {
   "cell_type": "code",
   "execution_count": 3,
   "metadata": {},
   "outputs": [
    {
     "name": "stdout",
     "output_type": "stream",
     "text": [
      "Executed: ../dwh_scripts/DDL_craft_market_dwh.sql\n",
      "Executed: ../dwh_scripts/DDL_craft_market_datamart_increment.sql\n",
      "All DWH and Data Mart tables have been created successfully!\n"
     ]
    }
   ],
   "source": [
    "conn = psycopg2.connect(\n",
    "    dbname=POSTGRES_DB,\n",
    "    user=POSTGRES_USER,\n",
    "    password=POSTGRES_PASSWORD,\n",
    "    host=POSTGRES_HOST,\n",
    "    port=POSTGRES_PORT,\n",
    ")\n",
    "cursor = conn.cursor()\n",
    "\n",
    "dwh_scripts_path = \"../dwh_scripts\"\n",
    "scripts_to_run = [\n",
    "    \"DDL_craft_market_dwh.sql\",\n",
    "    \"DDL_craft_market_datamart_increment.sql\"\n",
    "]\n",
    "\n",
    "for script in scripts_to_run:\n",
    "    script_path = os.path.join(dwh_scripts_path, script)\n",
    "    execute_sql_script(script_path)\n",
    "\n",
    "print(\"All DWH and Data Mart tables have been created successfully!\")"
   ]
  }
 ],
 "metadata": {
  "kernelspec": {
   "display_name": "Python 3 (ipykernel)",
   "language": "python",
   "name": "python3"
  },
  "language_info": {
   "codemirror_mode": {
    "name": "ipython",
    "version": 3
   },
   "file_extension": ".py",
   "mimetype": "text/x-python",
   "name": "python",
   "nbconvert_exporter": "python",
   "pygments_lexer": "ipython3",
   "version": "3.11.6"
  }
 },
 "nbformat": 4,
 "nbformat_minor": 4
}
